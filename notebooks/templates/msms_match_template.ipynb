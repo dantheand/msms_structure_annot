{
 "cells": [
  {
   "source": [
    "# MS/MS hypothetical structure spectra template notebook\n",
    "- this notebook takes ms/ms spectra and matches the observed ions to hypothetical ions generated from modified peptides\n",
    "- you have to specify:\n",
    "    - data location / names\n",
    "    - peptide sequence\n",
    "    - modifications present\n",
    "    - MS spectra filtering parameters"
   ],
   "cell_type": "markdown",
   "metadata": {}
  },
  {
   "source": [
    "# Notes\n",
    "\n",
    "Take note of anything you like here. It'll be exported with the notebook when you run the notebook export."
   ],
   "cell_type": "markdown",
   "metadata": {}
  },
  {
   "cell_type": "code",
   "execution_count": null,
   "metadata": {},
   "outputs": [],
   "source": [
    "# Imports\n",
    "import pandas as pd\n",
    "import numpy as np\n",
    "import itertools\n",
    "import glob\n",
    "import os\n",
    "import re\n",
    "import matplotlib.pyplot as plt\n",
    "import nbconvert\n",
    "\n",
    "# Import the custom modules\n",
    "from msms_structure_annot import plotters\n",
    "from msms_structure_annot import msprocess\n",
    "from msms_structure_annot import hsmakers\n",
    "from msms_structure_annot import scoring"
   ]
  },
  {
   "cell_type": "code",
   "execution_count": null,
   "metadata": {},
   "outputs": [],
   "source": [
    "# Import relevant paths to use\n",
    "from msms_structure_annot.paths import data_dir\n",
    "from msms_structure_annot.paths import reports_dir"
   ]
  },
  {
   "source": [
    "## User-specified info\n",
    "\n",
    "### Experiment / report name"
   ],
   "cell_type": "markdown",
   "metadata": {}
  },
  {
   "cell_type": "code",
   "execution_count": null,
   "metadata": {},
   "outputs": [],
   "source": [
    "# Specify the name of this notebook (needed to export it in the end)\n",
    "this_notebook_name = '*.ipynb'\n",
    "\n",
    "# Specify msms files directory in the data_dir folder and load path to them\n",
    "exp_name = '' # Parent directory name for reports and such\n",
    "exp_dir = exp_name # Folder name where the data is (relative to the ./data directory)\n",
    "\n",
    "# Change this if you want to generate different reports; It will currently overwrite any reports currently in there\n",
    "report_id = 'report001'\n",
    "\n",
    "exp_data_folder = data_dir / exp_dir\n",
    "output_folder = reports_dir / exp_name / report_id\n",
    "\n",
    "if not os.path.isdir(exp_data_folder):\n",
    "    raise NotADirectoryError('Cannot find directory at provided data path!')\n",
    "\n",
    "print('Data folder:\\n', exp_data_folder, '\\n')\n",
    "print('Reports folder:\\n', output_folder)"
   ]
  },
  {
   "source": [
    "### Sequence and PTM info"
   ],
   "cell_type": "markdown",
   "metadata": {}
  },
  {
   "cell_type": "code",
   "execution_count": null,
   "metadata": {},
   "outputs": [],
   "source": [
    "# Original AA sequence\n",
    "parent_seq = 'XXXXXXXX' # Will be referred to as one-indexed from here on\n",
    "\n",
    "# Define N and C-term modifications and their mass shifts\n",
    "N_term_mod = 0 # polymerized AA masses already include proton\n",
    "C_term_mod = 18.0027\n",
    "proton_m = 1.0078\n",
    "# Define number of charges to calculate m/z values for\n",
    "charges = [1,2,3]\n",
    "\n",
    "ptm_dict = {\n",
    "    'name': [\n",
    "        '',  # Name of the modification type\n",
    "    ],\n",
    "    'm_shift': [  # Mass shift for a given modification\n",
    "        0, \n",
    "    ], \n",
    "    'num_mods': [ # Total number of modifications observed\n",
    "        0, \n",
    "    ], \n",
    "    'poss_mod_pos': [ # Potential modification positions (one-indexed)\n",
    "        [1,2,3],\n",
    "    ],\n",
    "    'type': [  # Type of modification (ring or point); (ring feature not currently implemented)\n",
    "        'point',\n",
    "    ]\n",
    "}"
   ]
  },
  {
   "cell_type": "code",
   "execution_count": null,
   "metadata": {},
   "outputs": [],
   "source": [
    "\"\"\"Examples of PTM specification:\n",
    "\n",
    "# This is what single PTMs look like\n",
    "\n",
    "ptm_dict = {\n",
    "    'name': [\n",
    "        'rSAM thioether',  # Name of the modification type\n",
    "    ],\n",
    "    'm_shift': [  # Mass shift for a given modification\n",
    "        -1.007, \n",
    "    ], \n",
    "    'num_mods': [ # Total number of modifications observed\n",
    "        2, \n",
    "    ], \n",
    "    'poss_mod_pos': [ # Potential modification positions (one-indexed)\n",
    "        [18,22,15, 5],\n",
    "    ],\n",
    "    'type': [  # Type of modification (ring or point); (ring feature not currently implemented)\n",
    "        'point',\n",
    "    ]\n",
    "}\n",
    "\n",
    "# This is what multiple PTMs would look like\n",
    "\n",
    "ptm_dict = {\n",
    "    'name': [\n",
    "        'rSAM thioether', \n",
    "        'dehydration'\n",
    "    ],\n",
    "    'm_shift': [  # Mass shift for a given modification\n",
    "        -1.007, \n",
    "        -16.00\n",
    "    ], \n",
    "    'num_mods': [ # Total number of modifications observed\n",
    "        2, \n",
    "        2\n",
    "    ], \n",
    "    'poss_mod_pos': [ # Potential modification positions (one-indexed)\n",
    "        [18,22,15],\n",
    "        [2,5,7] \n",
    "    ] \n",
    "}\n",
    "\n",
    "\"\"\""
   ]
  },
  {
   "source": [
    "### MS spectra processing parameters"
   ],
   "cell_type": "markdown",
   "metadata": {}
  },
  {
   "cell_type": "code",
   "execution_count": null,
   "metadata": {},
   "outputs": [],
   "source": [
    "## User-specified parameters\n",
    "tol = 0.05 # mass-deviation tolerance; Default 0.4\n",
    "sn_thr = 0.1 # signal-to-noise threshold (must be sn_thr times above background for ion to count); Default 5\n",
    "N = 12800 # Number of sections to split m/z datapoints into when calculating background values; Default 500\n",
    "upper_lim = 10 # limit to deviance above average ms ion intensity to set ion values to a limit; Default 50"
   ]
  },
  {
   "cell_type": "markdown",
   "metadata": {},
   "source": [
    "## Importing\n",
    "\n",
    "### PTMs"
   ]
  },
  {
   "cell_type": "code",
   "execution_count": null,
   "metadata": {},
   "outputs": [],
   "source": [
    "# Import PTMs into a dataframe\n",
    "ptms_df = pd.DataFrame(ptm_dict)\n",
    "ptms_df.index.name = 'ptm_id'\n",
    "ptms_df = ptms_df.reset_index()\n",
    "ptms_df"
   ]
  },
  {
   "source": [
    "### Mass spec files"
   ],
   "cell_type": "markdown",
   "metadata": {}
  },
  {
   "source": [
    "ms_df = msprocess.import_ms_files(exp_data_folder)"
   ],
   "cell_type": "code",
   "metadata": {},
   "execution_count": null,
   "outputs": []
  },
  {
   "cell_type": "markdown",
   "metadata": {},
   "source": [
    "## Processing mass spectra files\n",
    "\n",
    "- cap the maximum value of high abundance ions\n",
    "- calculate background level and filter by signal to noise"
   ]
  },
  {
   "cell_type": "code",
   "execution_count": null,
   "metadata": {},
   "outputs": [],
   "source": [
    "# Make sure everything is sorted before running background calculations\n",
    "ms_df.sort_values(by = ['spec_num', 'm/z'], inplace= True)\n",
    "\n",
    "# First apply abundance ceiling to each spectra file\n",
    "ms_df['abund_ceil'] =  ms_df.groupby('spec_num')['orig_abundance'].apply(msprocess.abund_ceiling, upper_lim)\n",
    "# Then calculate the background signal within each section\n",
    "ms_df['bkgd'] = ms_df.groupby('spec_num')['abund_ceil'].transform(msprocess.bkgd_calc_ser, N)"
   ]
  },
  {
   "cell_type": "code",
   "execution_count": null,
   "metadata": {},
   "outputs": [],
   "source": [
    "ms_df.head()"
   ]
  },
  {
   "cell_type": "code",
   "execution_count": null,
   "metadata": {},
   "outputs": [],
   "source": [
    "# Filter masses based off how far above the background signal they are according to the signal to noise threshold\n",
    "ms_df_sn_filter = ms_df[ms_df['abund_ceil'] > sn_thr*ms_df['bkgd']].reset_index(drop = True)"
   ]
  },
  {
   "cell_type": "markdown",
   "metadata": {},
   "source": [
    "## Create all hypothetical structures (hs) and fragment them"
   ]
  },
  {
   "cell_type": "code",
   "execution_count": null,
   "metadata": {},
   "outputs": [],
   "source": [
    "# Generate all possible hypothetical structures from provided PTM dataframe\n",
    "hs_df = hsmakers.gen_hss(ptms_df)\n",
    "hs_df"
   ]
  },
  {
   "cell_type": "markdown",
   "metadata": {},
   "source": [
    "### Fragment and assign masses"
   ]
  },
  {
   "cell_type": "code",
   "execution_count": null,
   "metadata": {},
   "outputs": [],
   "source": [
    "frag_df = hsmakers.frag_hs(hs_df, ptms_df, parent_seq, N_term_mod, C_term_mod)\n",
    "frag_df.head(10)"
   ]
  },
  {
   "source": [
    "### Add multiply-charged ions to hypothetical ion dataframe\n",
    "\n",
    "- Look for multiply-charged ions instead of just single deconvoluted data:\n",
    "    - which ones to look for:\n",
    "        - M+H\n",
    "        - M + 2H / 2\n",
    "        - M + 3H / 3"
   ],
   "cell_type": "markdown",
   "metadata": {}
  },
  {
   "cell_type": "code",
   "execution_count": null,
   "metadata": {},
   "outputs": [],
   "source": [
    "frag_df_charged = hsmakers.mk_charge_df(frag_df, charges, proton_m)\n",
    "frag_df_charged.tail(10)"
   ]
  },
  {
   "cell_type": "markdown",
   "metadata": {},
   "source": [
    "## Scoring hypothetical structures\n",
    "\n",
    "### Match observed ions to hypothetical ions"
   ]
  },
  {
   "cell_type": "code",
   "execution_count": null,
   "metadata": {},
   "outputs": [],
   "source": [
    "matched_df = scoring.match_ions(ms_df_sn_filter, frag_df_charged, tol)\n",
    "matched_df.head()"
   ]
  },
  {
   "cell_type": "markdown",
   "metadata": {},
   "source": [
    "### Use various scoring metrics to score the hypothetical structures"
   ]
  },
  {
   "cell_type": "code",
   "execution_count": null,
   "metadata": {},
   "outputs": [],
   "source": [
    "# Create an empty score dataframe\n",
    "scores_df = pd.DataFrame({'hs_id': [], 'score': [], 'score_method': []})\n",
    "scores_df['hs_id'] = scores_df['hs_id'].astype(int)\n",
    "\n",
    "# Iterate through scoring methods and append scored hypothetical structures\n",
    "N_spec = len(ms_df['spec_num'].unique()) # calculate the number of ms/ms spectra used\n",
    "\n",
    "for method in ['frac', 'weights']:\n",
    "    scores_df = scores_df.append(scoring.score_wrapper(matched_df, frag_df_charged, N_spec, score_method = method))\n",
    "\n",
    "# Sort it\n",
    "scores_df = scores_df.sort_values(['score_method', 'score'], ascending = False)\n",
    "scores_df"
   ]
  },
  {
   "cell_type": "markdown",
   "metadata": {},
   "source": [
    "## Plots\n",
    "\n",
    "### Barplots for scored hypothetical structures"
   ]
  },
  {
   "cell_type": "code",
   "execution_count": null,
   "metadata": {},
   "outputs": [],
   "source": [
    "import seaborn as sns"
   ]
  },
  {
   "source": [
    "#### Plot all metrics"
   ],
   "cell_type": "markdown",
   "metadata": {}
  },
  {
   "cell_type": "code",
   "execution_count": null,
   "metadata": {},
   "outputs": [],
   "source": [
    "all_scores_fig = sns.FacetGrid(scores_df, row = 'score_method')\n",
    "all_scores_fig.map(sns.barplot, 'hs_id', 'score', color = 'gainsboro', edgecolor = 'black')"
   ]
  },
  {
   "source": [
    "#### Plot just a single metric"
   ],
   "cell_type": "markdown",
   "metadata": {}
  },
  {
   "cell_type": "code",
   "execution_count": null,
   "metadata": {},
   "outputs": [],
   "source": [
    "## Can also plot with single metric and order it\n",
    "metric = 'frac'"
   ]
  },
  {
   "cell_type": "code",
   "execution_count": null,
   "metadata": {},
   "outputs": [],
   "source": [
    "\n",
    "sub_df = scores_df[scores_df['score_method'] == metric]\n",
    "order = sub_df.sort_values(['score'], ascending = False)['hs_id'].values\n",
    "\n",
    "single_scores_fig, ax = plt.subplots()\n",
    "sns.barplot(x = 'hs_id', y = 'score', order = order, data = sub_df,\n",
    "    color = 'gainsboro', edgecolor = 'black', ax = ax)\n",
    "ax.set_xlabel('Hypothetical structure ID')\n",
    "ax.set_ylabel('Score')\n",
    "plt.show()"
   ]
  },
  {
   "cell_type": "markdown",
   "metadata": {},
   "source": [
    "### Annotated mass spectra plots"
   ]
  },
  {
   "cell_type": "code",
   "execution_count": null,
   "metadata": {},
   "outputs": [],
   "source": [
    "# Pick a single hypothetical structure to plot the matched ions for\n",
    "hs_id_plot = 0\n",
    "ms_file_nums = ms_df['spec_num'].unique()\n",
    "print('Num spectra: ',len(ms_file_nums))"
   ]
  },
  {
   "cell_type": "code",
   "execution_count": null,
   "metadata": {},
   "outputs": [],
   "source": [
    "# Plot formatting if you wish; Specify either a global set of limits (one tuple in a list)\n",
    "#    or limits for each (one tuple for each spectra plot)\n",
    "auto_yscale= True\n",
    "xlims = [(0,2000)]\n",
    "ylims = [(0,1e5)]\n",
    "# Define a summed abudance lower limit for plotting hypothetical ion annotations\n",
    "annot_sn_lim = 0\n",
    "\n",
    "spectra_fig, axs = plotters.label_spectra_plot(ms_df, matched_df, ms_file_nums, hs_id = hs_id_plot,\n",
    "                                                auto_yscale= auto_yscale, xlims = xlims, ylims = ylims,\n",
    "                                                annot_sn_lim = annot_sn_lim)\n",
    "plt.show()"
   ]
  },
  {
   "source": [
    "### Combined mass spectra plots\n",
    "- sum peaks across all spectra to increase S/N\n",
    "- then annotate with a given hypothetical structure and make a single plot\n",
    "\n",
    "#### Process\n",
    "- must first round m/z values to be fewer significant figures than the machine error across multiple spectra"
   ],
   "cell_type": "markdown",
   "metadata": {}
  },
  {
   "cell_type": "code",
   "execution_count": null,
   "metadata": {},
   "outputs": [],
   "source": [
    "## Specify number of decimal places to round to compensate for machine error\n",
    "num_dec = 2\n",
    "\n",
    "ms_df_round = ms_df.copy()\n",
    "ms_df_round['m/z'] = ms_df_round['m/z'].round(decimals = num_dec)\n",
    "ms_df_round.head()"
   ]
  },
  {
   "cell_type": "code",
   "execution_count": null,
   "metadata": {},
   "outputs": [],
   "source": [
    "# Sum all instances of a given mass\n",
    "combined_ms_df = ms_df_round.groupby(['m/z'])['orig_abundance'].sum().reset_index()\n",
    "combined_ms_df.loc[:,'spec_num'] = 0 # Add spec num column for backward compatibility\n",
    "\n",
    "# Match those masses to hypothetical masses\n",
    "comb_matched_df = scoring.match_ions(combined_ms_df,frag_df_charged, tol = tol)\n",
    "comb_matched_df.loc[:,'spec_num'] = 0 # Add spec num column for backward compatibility\n",
    "comb_matched_df.head()"
   ]
  },
  {
   "source": [
    "Plot it"
   ],
   "cell_type": "markdown",
   "metadata": {}
  },
  {
   "cell_type": "code",
   "execution_count": null,
   "metadata": {},
   "outputs": [],
   "source": [
    "# Pick a single hypothetical structure to plot the matched ions for\r\n",
    "hs_id_plot = 0\r\n",
    "# Define a summed abudance lower limit for plotting hypothetical ion annotations\r\n",
    "annot_sn_lim = 5000\r\n",
    "\r\n",
    "comb_spectra_fig, axs = plotters.label_spectra_plot(\r\n",
    "    combined_ms_df, comb_matched_df, ms_file_nums = [0], hs_id = hs_id_plot, \r\n",
    "    auto_yscale= auto_yscale, xlims = xlims, ylims = ylims, \r\n",
    "    annot_sn_lim = annot_sn_lim\r\n",
    ")\r\n",
    "\r\n",
    "plt.show()"
   ]
  },
  {
   "source": [
    "# Exports to reports folder\n",
    "\n",
    "NOTE: When you're ready to export the reports, it's best practice to rerun all the code cells above before exporting. This makes sure whatever we export down below is in the expected state.\n",
    "\n",
    "Do this before exporting:\n",
    "- Rerun all the cells above this point\n",
    "- Save the Jupyter notebook"
   ],
   "cell_type": "markdown",
   "metadata": {}
  },
  {
   "cell_type": "code",
   "execution_count": null,
   "metadata": {},
   "outputs": [],
   "source": [
    "## Make output directory if it doesn't already exist\n",
    "if not os.path.isdir(output_folder):\n",
    "    os.makedirs(output_folder)\n",
    "\n",
    "# Output folder specified at the beginning of the notebook\n",
    "print(\"Output folder:\\n\", output_folder)"
   ]
  },
  {
   "source": [
    "### Excel file outputs"
   ],
   "cell_type": "markdown",
   "metadata": {}
  },
  {
   "cell_type": "code",
   "execution_count": null,
   "metadata": {},
   "outputs": [],
   "source": [
    "# Export matched ions\n",
    "matched_df.sort_values(['hs_id', 'spec_num', 'm/z'])\n",
    "matched_df.to_excel(output_folder / 'matched_ions.xlsx', index = False)\n",
    "\n",
    "# Export sorted score dataframe\n",
    "scores_df.to_excel(output_folder / 'hs_scores.xlsx', index = False)\n",
    "# Export hypothetical structures and their PTM locations\n",
    "hs_df.to_excel(output_folder / 'hs_df.xlsx', index = True)\n",
    "# Export PTM information\n",
    "ptms_df.to_excel(output_folder / 'ptms_df.xlsx', index = False)\n"
   ]
  },
  {
   "source": [
    "### Plots"
   ],
   "cell_type": "markdown",
   "metadata": {}
  },
  {
   "cell_type": "code",
   "execution_count": null,
   "metadata": {},
   "outputs": [],
   "source": [
    "# Make the spectra plots output folder\n",
    "if not os.path.isdir(output_folder / 'spectra_plots'):\n",
    "    os.makedirs(output_folder / 'spectra_plots')"
   ]
  },
  {
   "cell_type": "code",
   "execution_count": null,
   "metadata": {},
   "outputs": [],
   "source": [
    "all_scores_fig.savefig(output_folder / \"all_scores_fig.pdf\", dpi=300)\n",
    "single_scores_fig.savefig(output_folder / \"single_score_fig.pdf\", dpi=300)\n",
    "spectra_fig.savefig(output_folder / 'spectra_plots' / 'hs{}_matched_ions.pdf'.format(hs_id_plot), dpi=300)\n",
    "comb_spectra_fig.savefig(\n",
    "    output_folder / 'spectra_plots' / 'hs{}_summed_spectra_matches.pdf'.format(hs_id_plot), dpi=300)"
   ]
  },
  {
   "cell_type": "code",
   "execution_count": null,
   "metadata": {},
   "outputs": [],
   "source": [
    "# If you want to export all the different hs ion matching spectra, iterate over this:\n",
    "\"\"\"\n",
    "ms_file_nums = ms_df['spec_num'].unique()\n",
    "\n",
    "for hs_id_plot in hs_df['hs_id'].unique():\n",
    "    spectra_fig, axs = plotters.label_spectra_plot(ms_df, matched_df, ms_file_nums, hs_id = hs_id_plot)\n",
    "    spectra_fig.savefig(output_folder / 'spectra_plots' / 'hs{}_matched_ions.pdf'.format(hs_id_plot), dpi=300)\n",
    "    comb_spectra_fig.savefig(\n",
    "        output_folder / 'spectra_plots' / 'hs{}_summed_spectra_matches.pdf'.format(hs_id_plot), dpi=300)\n",
    "    plt.close(spectra_fig)\n",
    "\"\"\""
   ]
  },
  {
   "source": [
    "### The Jupyter notebook itself\n",
    "\n",
    "Pretty hacky, but you have to put the name of the notebook (done at the top) to be able to export it (very hard to extract programmatically). This will save this notebook as an HTML file so you have a record of what happened."
   ],
   "cell_type": "markdown",
   "metadata": {}
  },
  {
   "cell_type": "code",
   "execution_count": null,
   "metadata": {},
   "outputs": [],
   "source": [
    "from nbconvert import HTMLExporter\n",
    "import codecs\n",
    "import nbformat\n",
    "\n",
    "notebook_name = this_notebook_name\n",
    "output_file_name = output_folder / str(exp_name + '_' + report_id + '.html')\n",
    "\n",
    "exporter = HTMLExporter()\n",
    "output_notebook = nbformat.read(notebook_name, as_version=4)\n",
    "\n",
    "output, resources = exporter.from_notebook_node(output_notebook)\n",
    "codecs.open(output_file_name, 'w', encoding='utf-8').write(output)"
   ]
  }
 ],
 "metadata": {
  "kernelspec": {
   "name": "python388jvsc74a57bd09efb2c5775c5eda6f4d3ed383f24b07049dd760bd42a38a67e84c485e450cdea",
   "display_name": "Python 3.8.8 64-bit ('msms_structure_annot-env': conda)"
  },
  "language_info": {
   "codemirror_mode": {
    "name": "ipython",
    "version": 3
   },
   "file_extension": ".py",
   "mimetype": "text/x-python",
   "name": "python",
   "nbconvert_exporter": "python",
   "pygments_lexer": "ipython3",
   "version": "3.8.8"
  }
 },
 "nbformat": 4,
 "nbformat_minor": 4
}